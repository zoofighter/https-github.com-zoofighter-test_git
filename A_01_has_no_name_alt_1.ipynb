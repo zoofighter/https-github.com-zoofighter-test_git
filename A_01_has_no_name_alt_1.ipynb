{
  "cells": [
    {
      "metadata": {
        "trusted": true
      },
      "cell_type": "code",
      "source": "# list, dict, dataframe\n#https://stackoverflow.com/questions/9427163/remove-duplicate-dict-in-list-in-python\n#https://stackoverflow.com/questions/674519/how-can-i-convert-a-python-dictionary-to-a-list-of-tuples\n#https://stackoverflow.com/questions/18837262/convert-python-dict-into-a-dataframe",
      "execution_count": null,
      "outputs": []
    },
    {
      "metadata": {
        "trusted": true
      },
      "cell_type": "code",
      "source": "store_num = []\ndict_num = {}\nfor key, i in enumerate(range(3)):\n    print(key)\n    dict_num[key] = i\n    store_num.append((key, i))\ndict_num",
      "execution_count": 13,
      "outputs": [
        {
          "name": "stdout",
          "output_type": "stream",
          "text": "0\n1\n2\n"
        },
        {
          "data": {
            "text/plain": "{0: 0, 1: 1, 2: 2}"
          },
          "execution_count": 13,
          "metadata": {},
          "output_type": "execute_result"
        }
      ]
    },
    {
      "metadata": {
        "trusted": true
      },
      "cell_type": "code",
      "source": "",
      "execution_count": 11,
      "outputs": [
        {
          "data": {
            "text/plain": "[0, 1, 2, 3, 4, 5, 6, 7, 8, 9]"
          },
          "execution_count": 11,
          "metadata": {},
          "output_type": "execute_result"
        }
      ]
    },
    {
      "metadata": {
        "trusted": true
      },
      "cell_type": "code",
      "source": "import pandas as pd\npd.DataFrame(dict_num)",
      "execution_count": 9,
      "outputs": [
        {
          "ename": "ValueError",
          "evalue": "If using all scalar values, you must pass an index",
          "output_type": "error",
          "traceback": [
            "\u001b[0;31m---------------------------------------------------------------------------\u001b[0m",
            "\u001b[0;31mValueError\u001b[0m                                Traceback (most recent call last)",
            "\u001b[0;32m<ipython-input-9-91b8ec0e631d>\u001b[0m in \u001b[0;36m<module>\u001b[0;34m()\u001b[0m\n\u001b[1;32m      1\u001b[0m \u001b[0;32mimport\u001b[0m \u001b[0mpandas\u001b[0m \u001b[0;32mas\u001b[0m \u001b[0mpd\u001b[0m\u001b[0;34m\u001b[0m\u001b[0m\n\u001b[0;32m----> 2\u001b[0;31m \u001b[0mpd\u001b[0m\u001b[0;34m.\u001b[0m\u001b[0mDataFrame\u001b[0m\u001b[0;34m(\u001b[0m\u001b[0mdict_num\u001b[0m\u001b[0;34m)\u001b[0m\u001b[0;34m\u001b[0m\u001b[0m\n\u001b[0m",
            "\u001b[0;32m~/anaconda3/lib/python3.6/site-packages/pandas/core/frame.py\u001b[0m in \u001b[0;36m__init__\u001b[0;34m(self, data, index, columns, dtype, copy)\u001b[0m\n\u001b[1;32m    346\u001b[0m                                  dtype=dtype, copy=copy)\n\u001b[1;32m    347\u001b[0m         \u001b[0;32melif\u001b[0m \u001b[0misinstance\u001b[0m\u001b[0;34m(\u001b[0m\u001b[0mdata\u001b[0m\u001b[0;34m,\u001b[0m \u001b[0mdict\u001b[0m\u001b[0;34m)\u001b[0m\u001b[0;34m:\u001b[0m\u001b[0;34m\u001b[0m\u001b[0m\n\u001b[0;32m--> 348\u001b[0;31m             \u001b[0mmgr\u001b[0m \u001b[0;34m=\u001b[0m \u001b[0mself\u001b[0m\u001b[0;34m.\u001b[0m\u001b[0m_init_dict\u001b[0m\u001b[0;34m(\u001b[0m\u001b[0mdata\u001b[0m\u001b[0;34m,\u001b[0m \u001b[0mindex\u001b[0m\u001b[0;34m,\u001b[0m \u001b[0mcolumns\u001b[0m\u001b[0;34m,\u001b[0m \u001b[0mdtype\u001b[0m\u001b[0;34m=\u001b[0m\u001b[0mdtype\u001b[0m\u001b[0;34m)\u001b[0m\u001b[0;34m\u001b[0m\u001b[0m\n\u001b[0m\u001b[1;32m    349\u001b[0m         \u001b[0;32melif\u001b[0m \u001b[0misinstance\u001b[0m\u001b[0;34m(\u001b[0m\u001b[0mdata\u001b[0m\u001b[0;34m,\u001b[0m \u001b[0mma\u001b[0m\u001b[0;34m.\u001b[0m\u001b[0mMaskedArray\u001b[0m\u001b[0;34m)\u001b[0m\u001b[0;34m:\u001b[0m\u001b[0;34m\u001b[0m\u001b[0m\n\u001b[1;32m    350\u001b[0m             \u001b[0;32mimport\u001b[0m \u001b[0mnumpy\u001b[0m\u001b[0;34m.\u001b[0m\u001b[0mma\u001b[0m\u001b[0;34m.\u001b[0m\u001b[0mmrecords\u001b[0m \u001b[0;32mas\u001b[0m \u001b[0mmrecords\u001b[0m\u001b[0;34m\u001b[0m\u001b[0m\n",
            "\u001b[0;32m~/anaconda3/lib/python3.6/site-packages/pandas/core/frame.py\u001b[0m in \u001b[0;36m_init_dict\u001b[0;34m(self, data, index, columns, dtype)\u001b[0m\n\u001b[1;32m    457\u001b[0m             \u001b[0marrays\u001b[0m \u001b[0;34m=\u001b[0m \u001b[0;34m[\u001b[0m\u001b[0mdata\u001b[0m\u001b[0;34m[\u001b[0m\u001b[0mk\u001b[0m\u001b[0;34m]\u001b[0m \u001b[0;32mfor\u001b[0m \u001b[0mk\u001b[0m \u001b[0;32min\u001b[0m \u001b[0mkeys\u001b[0m\u001b[0;34m]\u001b[0m\u001b[0;34m\u001b[0m\u001b[0m\n\u001b[1;32m    458\u001b[0m \u001b[0;34m\u001b[0m\u001b[0m\n\u001b[0;32m--> 459\u001b[0;31m         \u001b[0;32mreturn\u001b[0m \u001b[0m_arrays_to_mgr\u001b[0m\u001b[0;34m(\u001b[0m\u001b[0marrays\u001b[0m\u001b[0;34m,\u001b[0m \u001b[0mdata_names\u001b[0m\u001b[0;34m,\u001b[0m \u001b[0mindex\u001b[0m\u001b[0;34m,\u001b[0m \u001b[0mcolumns\u001b[0m\u001b[0;34m,\u001b[0m \u001b[0mdtype\u001b[0m\u001b[0;34m=\u001b[0m\u001b[0mdtype\u001b[0m\u001b[0;34m)\u001b[0m\u001b[0;34m\u001b[0m\u001b[0m\n\u001b[0m\u001b[1;32m    460\u001b[0m \u001b[0;34m\u001b[0m\u001b[0m\n\u001b[1;32m    461\u001b[0m     \u001b[0;32mdef\u001b[0m \u001b[0m_init_ndarray\u001b[0m\u001b[0;34m(\u001b[0m\u001b[0mself\u001b[0m\u001b[0;34m,\u001b[0m \u001b[0mvalues\u001b[0m\u001b[0;34m,\u001b[0m \u001b[0mindex\u001b[0m\u001b[0;34m,\u001b[0m \u001b[0mcolumns\u001b[0m\u001b[0;34m,\u001b[0m \u001b[0mdtype\u001b[0m\u001b[0;34m=\u001b[0m\u001b[0;32mNone\u001b[0m\u001b[0;34m,\u001b[0m \u001b[0mcopy\u001b[0m\u001b[0;34m=\u001b[0m\u001b[0;32mFalse\u001b[0m\u001b[0;34m)\u001b[0m\u001b[0;34m:\u001b[0m\u001b[0;34m\u001b[0m\u001b[0m\n",
            "\u001b[0;32m~/anaconda3/lib/python3.6/site-packages/pandas/core/frame.py\u001b[0m in \u001b[0;36m_arrays_to_mgr\u001b[0;34m(arrays, arr_names, index, columns, dtype)\u001b[0m\n\u001b[1;32m   7354\u001b[0m     \u001b[0;31m# figure out the index, if necessary\u001b[0m\u001b[0;34m\u001b[0m\u001b[0;34m\u001b[0m\u001b[0m\n\u001b[1;32m   7355\u001b[0m     \u001b[0;32mif\u001b[0m \u001b[0mindex\u001b[0m \u001b[0;32mis\u001b[0m \u001b[0;32mNone\u001b[0m\u001b[0;34m:\u001b[0m\u001b[0;34m\u001b[0m\u001b[0m\n\u001b[0;32m-> 7356\u001b[0;31m         \u001b[0mindex\u001b[0m \u001b[0;34m=\u001b[0m \u001b[0mextract_index\u001b[0m\u001b[0;34m(\u001b[0m\u001b[0marrays\u001b[0m\u001b[0;34m)\u001b[0m\u001b[0;34m\u001b[0m\u001b[0m\n\u001b[0m\u001b[1;32m   7357\u001b[0m \u001b[0;34m\u001b[0m\u001b[0m\n\u001b[1;32m   7358\u001b[0m     \u001b[0;31m# don't force copy because getting jammed in an ndarray anyway\u001b[0m\u001b[0;34m\u001b[0m\u001b[0;34m\u001b[0m\u001b[0m\n",
            "\u001b[0;32m~/anaconda3/lib/python3.6/site-packages/pandas/core/frame.py\u001b[0m in \u001b[0;36mextract_index\u001b[0;34m(data)\u001b[0m\n\u001b[1;32m   7391\u001b[0m \u001b[0;34m\u001b[0m\u001b[0m\n\u001b[1;32m   7392\u001b[0m         \u001b[0;32mif\u001b[0m \u001b[0;32mnot\u001b[0m \u001b[0mindexes\u001b[0m \u001b[0;32mand\u001b[0m \u001b[0;32mnot\u001b[0m \u001b[0mraw_lengths\u001b[0m\u001b[0;34m:\u001b[0m\u001b[0;34m\u001b[0m\u001b[0m\n\u001b[0;32m-> 7393\u001b[0;31m             raise ValueError('If using all scalar values, you must pass'\n\u001b[0m\u001b[1;32m   7394\u001b[0m                              ' an index')\n\u001b[1;32m   7395\u001b[0m \u001b[0;34m\u001b[0m\u001b[0m\n",
            "\u001b[0;31mValueError\u001b[0m: If using all scalar values, you must pass an index"
          ]
        }
      ]
    },
    {
      "metadata": {
        "trusted": true
      },
      "cell_type": "code",
      "source": "#https://stackoverflow.com/questions/18180763/set-difference-for-pandas/27579192\n\ndf1 = pd.DataFrame({'col1':[1,2,3], 'col2':[2,3,4]})\ndf2 = pd.DataFrame({'col1':[4,2,1], 'col2':[6,3,2]})",
      "execution_count": 16,
      "outputs": []
    },
    {
      "metadata": {
        "trusted": true
      },
      "cell_type": "code",
      "source": "df1",
      "execution_count": 17,
      "outputs": [
        {
          "data": {
            "text/html": "<div>\n<style scoped>\n    .dataframe tbody tr th:only-of-type {\n        vertical-align: middle;\n    }\n\n    .dataframe tbody tr th {\n        vertical-align: top;\n    }\n\n    .dataframe thead th {\n        text-align: right;\n    }\n</style>\n<table border=\"1\" class=\"dataframe\">\n  <thead>\n    <tr style=\"text-align: right;\">\n      <th></th>\n      <th>col1</th>\n      <th>col2</th>\n    </tr>\n  </thead>\n  <tbody>\n    <tr>\n      <th>0</th>\n      <td>1</td>\n      <td>2</td>\n    </tr>\n    <tr>\n      <th>1</th>\n      <td>2</td>\n      <td>3</td>\n    </tr>\n    <tr>\n      <th>2</th>\n      <td>3</td>\n      <td>4</td>\n    </tr>\n  </tbody>\n</table>\n</div>",
            "text/plain": "   col1  col2\n0     1     2\n1     2     3\n2     3     4"
          },
          "execution_count": 17,
          "metadata": {},
          "output_type": "execute_result"
        }
      ]
    },
    {
      "metadata": {
        "trusted": true
      },
      "cell_type": "code",
      "source": "df2",
      "execution_count": 18,
      "outputs": [
        {
          "data": {
            "text/html": "<div>\n<style scoped>\n    .dataframe tbody tr th:only-of-type {\n        vertical-align: middle;\n    }\n\n    .dataframe tbody tr th {\n        vertical-align: top;\n    }\n\n    .dataframe thead th {\n        text-align: right;\n    }\n</style>\n<table border=\"1\" class=\"dataframe\">\n  <thead>\n    <tr style=\"text-align: right;\">\n      <th></th>\n      <th>col1</th>\n      <th>col2</th>\n    </tr>\n  </thead>\n  <tbody>\n    <tr>\n      <th>0</th>\n      <td>4</td>\n      <td>6</td>\n    </tr>\n    <tr>\n      <th>1</th>\n      <td>2</td>\n      <td>3</td>\n    </tr>\n    <tr>\n      <th>2</th>\n      <td>1</td>\n      <td>2</td>\n    </tr>\n  </tbody>\n</table>\n</div>",
            "text/plain": "   col1  col2\n0     4     6\n1     2     3\n2     1     2"
          },
          "execution_count": 18,
          "metadata": {},
          "output_type": "execute_result"
        }
      ]
    },
    {
      "metadata": {
        "trusted": true
      },
      "cell_type": "code",
      "source": "[df1.isin(df2).all(1)]",
      "execution_count": 24,
      "outputs": [
        {
          "data": {
            "text/plain": "[0    False\n 1     True\n 2    False\n dtype: bool]"
          },
          "execution_count": 24,
          "metadata": {},
          "output_type": "execute_result"
        }
      ]
    },
    {
      "metadata": {
        "trusted": true
      },
      "cell_type": "code",
      "source": "\nn_fold= 5; print(\"-\"* 20 + str(n_fold) + \"_n_fold\"  + \"-\"* 20)",
      "execution_count": 20,
      "outputs": [
        {
          "name": "stdout",
          "output_type": "stream",
          "text": "--------------------5_n_fold--------------------\n"
        }
      ]
    },
    {
      "metadata": {
        "trusted": true
      },
      "cell_type": "code",
      "source": "#https://stackoverflow.com/questions/43459786/plot-timeseries-scatterplot\nimport pandas as pd\nimport matplotlib.pyplot as plt\n\n# replicate Data from question in DataFrame\nv = [[12,34,51], [9,76,12], [12,23,7], [54,4,34]]\ndf = pd.DataFrame(v, columns=[\"01/01/2016\",\"01/07/2016\",\"01/14/2017\"], \n                      index=[\"ABC\", \"XYZ\", \"PQR\", \"DEF\"])\nprint(df)\n\n\n#use column headers as x values\nx = pd.to_datetime(df.columns, format='%m/%d/%Y')\nx\n# # sum all values from DataFrame along vertical axis\ny = df.values.sum(axis=0)    \ny\ndef scatterplot(x_data, y_data, x_label, y_label, title):\n    fig, ax = plt.subplots()\n    ax.scatter(x_data, y_data, s = 30, color = '#539caf', alpha = 0.75)\n\n    ax.set_title(title)\n    ax.set_xlabel(x_label)\n    ax.set_ylabel(y_label)\n    fig.autofmt_xdate()\n\n\n# scatterplot(x,y, \"x_label\", \"y_label\", \"title\")\n\n# plt.show()",
      "execution_count": 91,
      "outputs": [
        {
          "name": "stdout",
          "output_type": "stream",
          "text": "     01/01/2016  01/07/2016  01/14/2017\nABC          12          34          51\nXYZ           9          76          12\nPQR          12          23           7\nDEF          54           4          34\n"
        }
      ]
    },
    {
      "metadata": {
        "trusted": true
      },
      "cell_type": "code",
      "source": "x",
      "execution_count": 2,
      "outputs": [
        {
          "data": {
            "text/plain": "DatetimeIndex(['2016-01-01', '2016-01-07', '2017-01-14'], dtype='datetime64[ns]', freq=None)"
          },
          "execution_count": 2,
          "metadata": {},
          "output_type": "execute_result"
        }
      ]
    },
    {
      "metadata": {
        "trusted": true
      },
      "cell_type": "code",
      "source": "import numpy as np\nimport pandas as pd\nimport seaborn as sns\nimport matplotlib.pyplot as plt\nimport plotly\nimport plotly.graph_objs as go\nfrom plotly.offline import download_plotlyjs, init_notebook_mode, plot, iplot\ninit_notebook_mode(connected=True)",
      "execution_count": 4,
      "outputs": [
        {
          "data": {
            "text/html": "<script>requirejs.config({paths: { 'plotly': ['https://cdn.plot.ly/plotly-latest.min']},});if(!window.Plotly) {{require(['plotly'],function(plotly) {window.Plotly=plotly;});}}</script>",
            "text/vnd.plotly.v1+html": "<script>requirejs.config({paths: { 'plotly': ['https://cdn.plot.ly/plotly-latest.min']},});if(!window.Plotly) {{require(['plotly'],function(plotly) {window.Plotly=plotly;});}}</script>"
          },
          "metadata": {},
          "output_type": "display_data"
        }
      ]
    },
    {
      "metadata": {
        "trusted": true
      },
      "cell_type": "code",
      "source": "dt = 5\nNt = 49\nstocks = np.zeros((Nt, 4))\nstocks[0, ] = [100, 112, 121, 115]\n\n# # calculate and store time series\nfor ii in range(1, Nt):\n    stocks[ii, ] = stocks[ii-1, ] + np.sqrt(dt) * np.random.randn(4)\nstocks\n\n# %% t\n\nrng_2 = pd.date_range('2018-01-01', periods= 49, freq=\"1d\", name = 'date')\ndf_t = pd.DataFrame(stocks, index=rng_2,columns = list('abcd'))\ndf_t['weekday_name'] = df_t.index.weekday_name",
      "execution_count": 105,
      "outputs": []
    },
    {
      "metadata": {
        "trusted": true
      },
      "cell_type": "code",
      "source": "",
      "execution_count": 28,
      "outputs": []
    },
    {
      "metadata": {
        "trusted": true
      },
      "cell_type": "code",
      "source": "",
      "execution_count": 32,
      "outputs": []
    },
    {
      "metadata": {
        "trusted": true
      },
      "cell_type": "code",
      "source": " #new_df.values()",
      "execution_count": 40,
      "outputs": []
    },
    {
      "metadata": {
        "trusted": true
      },
      "cell_type": "code",
      "source": "#new_df.index.get_le\n",
      "execution_count": 63,
      "outputs": []
    },
    {
      "metadata": {
        "trusted": true
      },
      "cell_type": "code",
      "source": "df_t.drop('weekday_name', axis = 1, inplace = True)\n\nimport matplotlib.pyplot as plt\n\n\ndf_t.columns.name = 'abc'\ngrouped = df_t.stack().groupby('abc')\nax = plt.subplots()\nfor g_index, new_df in grouped:\n    #print(g_index)\n    plt.scatter(new_df.index.get_level_values(0), new_df)\n    #scatterplot(new_df.index.get_level_values(0)  ,new_df ,'x','y' ,'z')\n    #plt.show()\n    ",
      "execution_count": 107,
      "outputs": [
        {
          "data": {
            "image/png": "[encoded data removed]",
            "text/plain": "<matplotlib.figure.Figure at 0x7f9a748d9c88>"
          },
          "metadata": {},
          "output_type": "display_data"
        }
      ]
    },
    {
      "metadata": {
        "trusted": true
      },
      "cell_type": "code",
      "source": "scatterplot(df_t.index, df_t.a ,'x','y' ,'z')",
      "execution_count": null,
      "outputs": []
    },
    {
      "metadata": {
        "trusted": true
      },
      "cell_type": "code",
      "source": "df_t.index",
      "execution_count": null,
      "outputs": []
    },
    {
      "metadata": {
        "trusted": true
      },
      "cell_type": "code",
      "source": "##fig, ax = plt.subplots()\n#df_t.plot.scatter(y = 'a', x =  index)\n#df_t.plot(kind='scatter', x = df_t.index, y = df_t.a)\nplt.rcParams[\"figure.figsize\"] = [16,9] #set\nplt.scatter( df_t.index, df_t.a)\n#plt.plot(kind ='scatter'df_g['TARGET'], df_g['mdt_yyyymm_date'])",
      "execution_count": 18,
      "outputs": [
        {
          "data": {
            "text/plain": "<matplotlib.collections.PathCollection at 0x7f9a753e6748>"
          },
          "execution_count": 18,
          "metadata": {},
          "output_type": "execute_result"
        },
        {
          "data": {
            "image/png": "[encoded data removed]",
            "text/plain": "<matplotlib.figure.Figure at 0x7f9a755b0d30>"
          },
          "metadata": {},
          "output_type": "display_data"
        }
      ]
    },
    {
      "metadata": {
        "trusted": true
      },
      "cell_type": "code",
      "source": "",
      "execution_count": null,
      "outputs": []
    },
    {
      "metadata": {
        "trusted": true
      },
      "cell_type": "code",
      "source": "df_t\nplot_time_list_append(df_t)",
      "execution_count": null,
      "outputs": []
    },
    {
      "metadata": {
        "trusted": true
      },
      "cell_type": "code",
      "source": "def plot_time_list_append(df):\n  # Rainbow-ranked by median visitor over all restaurants.\n  COLORS = {\n      'Saturday': 'red',\n      'Sunday': 'orange',\n      'Friday': 'green',\n      'Thursday': 'blue',\n      'Wednesday': 'purple',\n      'Tuesday': 'brown',\n      'Monday': 'black',\n  }\n  traces = []\n  for day_of_week in COLORS:\n    # Plots the number of visitors to this restaurant over time.\n    x = df.loc[df['weekday_name'] == day_of_week].index\n    print(x.shape)\n    print(day_of_week)\n    y = df.loc[df['weekday_name'] == day_of_week]['a']\n    # Adds points to the plot.\n    traces.append(go.Scatter(x=x,y=y,mode='markers',name=day_of_week,line=dict(color=COLORS[day_of_week]),))\n    # Adds a rolling mean line.\n    traces.append(go.Scatter(x=x,y=y.rolling(2, min_periods=1, center=True).mean(),mode='lines',name=day_of_week,line=dict(color=COLORS[day_of_week]),))\n    layout = go.Layout(title='Visitors to resaurant by day of week, with rolling averages',  yaxis=dict(title='Visitors'))\n  #iplot(go.Figure(data=traces, layout=layout))\n  plotly.offline.iplot((go.Figure(data=traces, layout=layout)))\nplot_time_list_append(df_t)",
      "execution_count": 106,
      "outputs": [
        {
          "name": "stdout",
          "output_type": "stream",
          "text": "(7,)\nSaturday\n(7,)\nSunday\n(7,)\nFriday\n(7,)\nThursday\n(7,)\nWednesday\n(7,)\nTuesday\n(7,)\nMonday\n"
        },
        {
          "data": {
            "application/vnd.plotly.v1+json": {
              "data": [
                {
                  "line": {
                    "color": "red"
                  },
                  "mode": "markers",
                  "name": "Saturday",
                  "type": "scatter",
                  "x": [
                    "2018-01-06",
                    "2018-01-13",
                    "2018-01-20",
                    "2018-01-27",
                    "2018-02-03",
                    "2018-02-10",
                    "2018-02-17"
                  ],
                  "y": [
                    100.70549871547692,
                    110.68640830173516,
                    113.17984068465138,
                    113.75788840466225,
                    112.81328086834357,
                    118.32562660915471,
                    118.9468998497224
                  ]
                },
                {
                  "line": {
                    "color": "red"
                  },
                  "mode": "lines",
                  "name": "Saturday",
                  "type": "scatter",
                  "x": [
                    "2018-01-06",
                    "2018-01-13",
                    "2018-01-20",
                    "2018-01-27",
                    "2018-02-03",
                    "2018-02-10",
                    "2018-02-17"
                  ],
                  "y": [
                    100.70549871547692,
                    105.69595350860604,
                    111.93312449319326,
                    113.4688645446568,
                    113.2855846365029,
                    115.56945373874913,
                    118.63626322943855
                  ]
                },
                {
                  "line": {
                    "color": "orange"
                  },
                  "mode": "markers",
                  "name": "Sunday",
                  "type": "scatter",
                  "x": [
                    "2018-01-07",
                    "2018-01-14",
                    "2018-01-21",
                    "2018-01-28",
                    "2018-02-04",
                    "2018-02-11",
                    "2018-02-18"
                  ],
                  "y": [
                    98.84993116506895,
                    110.87418122035595,
                    110.53301084576628,
                    112.7781126607592,
                    112.0744225620833,
                    116.30687290546993,
                    123.47185818070363
                  ]
                },
                {
                  "line": {
                    "color": "orange"
                  },
                  "mode": "lines",
                  "name": "Sunday",
                  "type": "scatter",
                  "x": [
                    "2018-01-07",
                    "2018-01-14",
                    "2018-01-21",
                    "2018-01-28",
                    "2018-02-04",
                    "2018-02-11",
                    "2018-02-18"
                  ],
                  "y": [
                    98.84993116506895,
                    104.86205619271246,
                    110.70359603306113,
                    111.65556175326275,
                    112.42626761142125,
                    114.1906477337766,
                    119.88936554308675
                  ]
                },
                {
                  "line": {
                    "color": "green"
                  },
                  "mode": "markers",
                  "name": "Friday",
                  "type": "scatter",
                  "x": [
                    "2018-01-05",
                    "2018-01-12",
                    "2018-01-19",
                    "2018-01-26",
                    "2018-02-02",
                    "2018-02-09",
                    "2018-02-16"
                  ],
                  "y": [
                    102.98487710579046,
                    108.28803892990811,
                    110.62009412183235,
                    109.83234230536148,
                    109.62885848653652,
                    117.41132804186213,
                    115.27415507925919
                  ]
                },
                {
                  "line": {
                    "color": "green"
                  },
                  "mode": "lines",
                  "name": "Friday",
                  "type": "scatter",
                  "x": [
                    "2018-01-05",
                    "2018-01-12",
                    "2018-01-19",
                    "2018-01-26",
                    "2018-02-02",
                    "2018-02-09",
                    "2018-02-16"
                  ],
                  "y": [
                    102.98487710579046,
                    105.6364580178493,
                    109.45406652587025,
                    110.22621821359692,
                    109.730600395949,
                    113.52009326419935,
                    116.34274156056068
                  ]
                },
                {
                  "line": {
                    "color": "blue"
                  },
                  "mode": "markers",
                  "name": "Thursday",
                  "type": "scatter",
                  "x": [
                    "2018-01-04",
                    "2018-01-11",
                    "2018-01-18",
                    "2018-01-25",
                    "2018-02-01",
                    "2018-02-08",
                    "2018-02-15"
                  ],
                  "y": [
                    102.29811147211247,
                    106.96023435163748,
                    108.89644737269435,
                    108.20867808210556,
                    114.52900456490904,
                    116.50149674878493,
                    116.40852755985175
                  ]
                },
                {
                  "line": {
                    "color": "blue"
                  },
                  "mode": "lines",
                  "name": "Thursday",
                  "type": "scatter",
                  "x": [
                    "2018-01-04",
                    "2018-01-11",
                    "2018-01-18",
                    "2018-01-25",
                    "2018-02-01",
                    "2018-02-08",
                    "2018-02-15"
                  ],
                  "y": [
                    102.29811147211247,
                    104.62917291187497,
                    107.92834086216592,
                    108.55256272739996,
                    111.3688413235073,
                    115.51525065684697,
                    116.45501215431833
                  ]
                },
                {
                  "line": {
                    "color": "purple"
                  },
                  "mode": "markers",
                  "name": "Wednesday",
                  "type": "scatter",
                  "x": [
                    "2018-01-03",
                    "2018-01-10",
                    "2018-01-17",
                    "2018-01-24",
                    "2018-01-31",
                    "2018-02-07",
                    "2018-02-14"
                  ],
                  "y": [
                    101.59057173311791,
                    105.03615543972214,
                    108.29670062614595,
                    109.78232630585079,
                    118.04923790682936,
                    117.19971717206154,
                    116.56403471474506
                  ]
                },
                {
                  "line": {
                    "color": "purple"
                  },
                  "mode": "lines",
                  "name": "Wednesday",
                  "type": "scatter",
                  "x": [
                    "2018-01-03",
                    "2018-01-10",
                    "2018-01-17",
                    "2018-01-24",
                    "2018-01-31",
                    "2018-02-07",
                    "2018-02-14"
                  ],
                  "y": [
                    101.59057173311791,
                    103.31336358642002,
                    106.66642803293404,
                    109.03951346599835,
                    113.91578210634006,
                    117.62447753944542,
                    116.88187594340326
                  ]
                },
                {
                  "line": {
                    "color": "brown"
                  },
                  "mode": "markers",
                  "name": "Tuesday",
                  "type": "scatter",
                  "x": [
                    "2018-01-02",
                    "2018-01-09",
                    "2018-01-16",
                    "2018-01-23",
                    "2018-01-30",
                    "2018-02-06",
                    "2018-02-13"
                  ],
                  "y": [
                    99.72396168405619,
                    103.20547194113803,
                    109.12226388795078,
                    111.15794254370539,
                    114.34862250674543,
                    118.3025416963188,
                    116.31179218093536
                  ]
                },
                {
                  "line": {
                    "color": "brown"
                  },
                  "mode": "lines",
                  "name": "Tuesday",
                  "type": "scatter",
                  "x": [
                    "2018-01-02",
                    "2018-01-09",
                    "2018-01-16",
                    "2018-01-23",
                    "2018-01-30",
                    "2018-02-06",
                    "2018-02-13"
                  ],
                  "y": [
                    99.72396168405619,
                    101.46471681259712,
                    106.16386791454443,
                    110.14010321582812,
                    112.75328252522544,
                    116.32558210153213,
                    117.30716693862712
                  ]
                },
                {
                  "line": {
                    "color": "black"
                  },
                  "mode": "markers",
                  "name": "Monday",
                  "type": "scatter",
                  "x": [
                    "2018-01-01",
                    "2018-01-08",
                    "2018-01-15",
                    "2018-01-22",
                    "2018-01-29",
                    "2018-02-05",
                    "2018-02-12"
                  ],
                  "y": [
                    100,
                    101.29462629519436,
                    108.80526388952586,
                    112.12141188997008,
                    114.4183539168384,
                    113.88013873365271,
                    115.853672109395
                  ]
                },
                {
                  "line": {
                    "color": "black"
                  },
                  "mode": "lines",
                  "name": "Monday",
                  "type": "scatter",
                  "x": [
                    "2018-01-01",
                    "2018-01-08",
                    "2018-01-15",
                    "2018-01-22",
                    "2018-01-29",
                    "2018-02-05",
                    "2018-02-12"
                  ],
                  "y": [
                    100,
                    100.64731314759717,
                    105.0499450923601,
                    110.46333788974798,
                    113.26988290340424,
                    114.14924632524554,
                    114.86690542152385
                  ]
                }
              ],
              "layout": {
                "title": "Visitors to resaurant by day of week, with rolling averages",
                "yaxis": {
                  "title": "Visitors"
                }
              }
            },
            "text/html": "<div id=\"324d7eaa-6f8a-4f12-b0de-9fe9c66d8091\" style=\"height: 525px; width: 100%;\" class=\"plotly-graph-div\"></div><script type=\"text/javascript\">require([\"plotly\"], function(Plotly) { window.PLOTLYENV=window.PLOTLYENV || {};window.PLOTLYENV.BASE_URL=\"https://plot.ly\";Plotly.newPlot(\"324d7eaa-6f8a-4f12-b0de-9fe9c66d8091\", [{\"type\": \"scatter\", \"x\": [\"2018-01-06\", \"2018-01-13\", \"2018-01-20\", \"2018-01-27\", \"2018-02-03\", \"2018-02-10\", \"2018-02-17\"], \"y\": [100.70549871547692, 110.68640830173516, 113.17984068465138, 113.75788840466225, 112.81328086834357, 118.32562660915471, 118.9468998497224], \"mode\": \"markers\", \"name\": \"Saturday\", \"line\": {\"color\": \"red\"}}, {\"type\": \"scatter\", \"x\": [\"2018-01-06\", \"2018-01-13\", \"2018-01-20\", \"2018-01-27\", \"2018-02-03\", \"2018-02-10\", \"2018-02-17\"], \"y\": [100.70549871547692, 105.69595350860604, 111.93312449319326, 113.4688645446568, 113.2855846365029, 115.56945373874913, 118.63626322943855], \"mode\": \"lines\", \"name\": \"Saturday\", \"line\": {\"color\": \"red\"}}, {\"type\": \"scatter\", \"x\": [\"2018-01-07\", \"2018-01-14\", \"2018-01-21\", \"2018-01-28\", \"2018-02-04\", \"2018-02-11\", \"2018-02-18\"], \"y\": [98.84993116506895, 110.87418122035595, 110.53301084576628, 112.7781126607592, 112.0744225620833, 116.30687290546993, 123.47185818070363], \"mode\": \"markers\", \"name\": \"Sunday\", \"line\": {\"color\": \"orange\"}}, {\"type\": \"scatter\", \"x\": [\"2018-01-07\", \"2018-01-14\", \"2018-01-21\", \"2018-01-28\", \"2018-02-04\", \"2018-02-11\", \"2018-02-18\"], \"y\": [98.84993116506895, 104.86205619271246, 110.70359603306113, 111.65556175326275, 112.42626761142125, 114.1906477337766, 119.88936554308675], \"mode\": \"lines\", \"name\": \"Sunday\", \"line\": {\"color\": \"orange\"}}, {\"type\": \"scatter\", \"x\": [\"2018-01-05\", \"2018-01-12\", \"2018-01-19\", \"2018-01-26\", \"2018-02-02\", \"2018-02-09\", \"2018-02-16\"], \"y\": [102.98487710579046, 108.28803892990811, 110.62009412183235, 109.83234230536148, 109.62885848653652, 117.41132804186213, 115.27415507925919], \"mode\": \"markers\", \"name\": \"Friday\", \"line\": {\"color\": \"green\"}}, {\"type\": \"scatter\", \"x\": [\"2018-01-05\", \"2018-01-12\", \"2018-01-19\", \"2018-01-26\", \"2018-02-02\", \"2018-02-09\", \"2018-02-16\"], \"y\": [102.98487710579046, 105.6364580178493, 109.45406652587025, 110.22621821359692, 109.730600395949, 113.52009326419935, 116.34274156056068], \"mode\": \"lines\", \"name\": \"Friday\", \"line\": {\"color\": \"green\"}}, {\"type\": \"scatter\", \"x\": [\"2018-01-04\", \"2018-01-11\", \"2018-01-18\", \"2018-01-25\", \"2018-02-01\", \"2018-02-08\", \"2018-02-15\"], \"y\": [102.29811147211247, 106.96023435163748, 108.89644737269435, 108.20867808210556, 114.52900456490904, 116.50149674878493, 116.40852755985175], \"mode\": \"markers\", \"name\": \"Thursday\", \"line\": {\"color\": \"blue\"}}, {\"type\": \"scatter\", \"x\": [\"2018-01-04\", \"2018-01-11\", \"2018-01-18\", \"2018-01-25\", \"2018-02-01\", \"2018-02-08\", \"2018-02-15\"], \"y\": [102.29811147211247, 104.62917291187497, 107.92834086216592, 108.55256272739996, 111.3688413235073, 115.51525065684697, 116.45501215431833], \"mode\": \"lines\", \"name\": \"Thursday\", \"line\": {\"color\": \"blue\"}}, {\"type\": \"scatter\", \"x\": [\"2018-01-03\", \"2018-01-10\", \"2018-01-17\", \"2018-01-24\", \"2018-01-31\", \"2018-02-07\", \"2018-02-14\"], \"y\": [101.59057173311791, 105.03615543972214, 108.29670062614595, 109.78232630585079, 118.04923790682936, 117.19971717206154, 116.56403471474506], \"mode\": \"markers\", \"name\": \"Wednesday\", \"line\": {\"color\": \"purple\"}}, {\"type\": \"scatter\", \"x\": [\"2018-01-03\", \"2018-01-10\", \"2018-01-17\", \"2018-01-24\", \"2018-01-31\", \"2018-02-07\", \"2018-02-14\"], \"y\": [101.59057173311791, 103.31336358642002, 106.66642803293404, 109.03951346599835, 113.91578210634006, 117.62447753944542, 116.88187594340326], \"mode\": \"lines\", \"name\": \"Wednesday\", \"line\": {\"color\": \"purple\"}}, {\"type\": \"scatter\", \"x\": [\"2018-01-02\", \"2018-01-09\", \"2018-01-16\", \"2018-01-23\", \"2018-01-30\", \"2018-02-06\", \"2018-02-13\"], \"y\": [99.72396168405619, 103.20547194113803, 109.12226388795078, 111.15794254370539, 114.34862250674543, 118.3025416963188, 116.31179218093536], \"mode\": \"markers\", \"name\": \"Tuesday\", \"line\": {\"color\": \"brown\"}}, {\"type\": \"scatter\", \"x\": [\"2018-01-02\", \"2018-01-09\", \"2018-01-16\", \"2018-01-23\", \"2018-01-30\", \"2018-02-06\", \"2018-02-13\"], \"y\": [99.72396168405619, 101.46471681259712, 106.16386791454443, 110.14010321582812, 112.75328252522544, 116.32558210153213, 117.30716693862712], \"mode\": \"lines\", \"name\": \"Tuesday\", \"line\": {\"color\": \"brown\"}}, {\"type\": \"scatter\", \"x\": [\"2018-01-01\", \"2018-01-08\", \"2018-01-15\", \"2018-01-22\", \"2018-01-29\", \"2018-02-05\", \"2018-02-12\"], \"y\": [100.0, 101.29462629519436, 108.80526388952586, 112.12141188997008, 114.4183539168384, 113.88013873365271, 115.853672109395], \"mode\": \"markers\", \"name\": \"Monday\", \"line\": {\"color\": \"black\"}}, {\"type\": \"scatter\", \"x\": [\"2018-01-01\", \"2018-01-08\", \"2018-01-15\", \"2018-01-22\", \"2018-01-29\", \"2018-02-05\", \"2018-02-12\"], \"y\": [100.0, 100.64731314759717, 105.0499450923601, 110.46333788974798, 113.26988290340424, 114.14924632524554, 114.86690542152385], \"mode\": \"lines\", \"name\": \"Monday\", \"line\": {\"color\": \"black\"}}], {\"title\": \"Visitors to resaurant by day of week, with rolling averages\", \"yaxis\": {\"title\": \"Visitors\"}}, {\"showLink\": true, \"linkText\": \"Export to plot.ly\"})});</script>",
            "text/vnd.plotly.v1+html": "<div id=\"324d7eaa-6f8a-4f12-b0de-9fe9c66d8091\" style=\"height: 525px; width: 100%;\" class=\"plotly-graph-div\"></div><script type=\"text/javascript\">require([\"plotly\"], function(Plotly) { window.PLOTLYENV=window.PLOTLYENV || {};window.PLOTLYENV.BASE_URL=\"https://plot.ly\";Plotly.newPlot(\"324d7eaa-6f8a-4f12-b0de-9fe9c66d8091\", [{\"type\": \"scatter\", \"x\": [\"2018-01-06\", \"2018-01-13\", \"2018-01-20\", \"2018-01-27\", \"2018-02-03\", \"2018-02-10\", \"2018-02-17\"], \"y\": [100.70549871547692, 110.68640830173516, 113.17984068465138, 113.75788840466225, 112.81328086834357, 118.32562660915471, 118.9468998497224], \"mode\": \"markers\", \"name\": \"Saturday\", \"line\": {\"color\": \"red\"}}, {\"type\": \"scatter\", \"x\": [\"2018-01-06\", \"2018-01-13\", \"2018-01-20\", \"2018-01-27\", \"2018-02-03\", \"2018-02-10\", \"2018-02-17\"], \"y\": [100.70549871547692, 105.69595350860604, 111.93312449319326, 113.4688645446568, 113.2855846365029, 115.56945373874913, 118.63626322943855], \"mode\": \"lines\", \"name\": \"Saturday\", \"line\": {\"color\": \"red\"}}, {\"type\": \"scatter\", \"x\": [\"2018-01-07\", \"2018-01-14\", \"2018-01-21\", \"2018-01-28\", \"2018-02-04\", \"2018-02-11\", \"2018-02-18\"], \"y\": [98.84993116506895, 110.87418122035595, 110.53301084576628, 112.7781126607592, 112.0744225620833, 116.30687290546993, 123.47185818070363], \"mode\": \"markers\", \"name\": \"Sunday\", \"line\": {\"color\": \"orange\"}}, {\"type\": \"scatter\", \"x\": [\"2018-01-07\", \"2018-01-14\", \"2018-01-21\", \"2018-01-28\", \"2018-02-04\", \"2018-02-11\", \"2018-02-18\"], \"y\": [98.84993116506895, 104.86205619271246, 110.70359603306113, 111.65556175326275, 112.42626761142125, 114.1906477337766, 119.88936554308675], \"mode\": \"lines\", \"name\": \"Sunday\", \"line\": {\"color\": \"orange\"}}, {\"type\": \"scatter\", \"x\": [\"2018-01-05\", \"2018-01-12\", \"2018-01-19\", \"2018-01-26\", \"2018-02-02\", \"2018-02-09\", \"2018-02-16\"], \"y\": [102.98487710579046, 108.28803892990811, 110.62009412183235, 109.83234230536148, 109.62885848653652, 117.41132804186213, 115.27415507925919], \"mode\": \"markers\", \"name\": \"Friday\", \"line\": {\"color\": \"green\"}}, {\"type\": \"scatter\", \"x\": [\"2018-01-05\", \"2018-01-12\", \"2018-01-19\", \"2018-01-26\", \"2018-02-02\", \"2018-02-09\", \"2018-02-16\"], \"y\": [102.98487710579046, 105.6364580178493, 109.45406652587025, 110.22621821359692, 109.730600395949, 113.52009326419935, 116.34274156056068], \"mode\": \"lines\", \"name\": \"Friday\", \"line\": {\"color\": \"green\"}}, {\"type\": \"scatter\", \"x\": [\"2018-01-04\", \"2018-01-11\", \"2018-01-18\", \"2018-01-25\", \"2018-02-01\", \"2018-02-08\", \"2018-02-15\"], \"y\": [102.29811147211247, 106.96023435163748, 108.89644737269435, 108.20867808210556, 114.52900456490904, 116.50149674878493, 116.40852755985175], \"mode\": \"markers\", \"name\": \"Thursday\", \"line\": {\"color\": \"blue\"}}, {\"type\": \"scatter\", \"x\": [\"2018-01-04\", \"2018-01-11\", \"2018-01-18\", \"2018-01-25\", \"2018-02-01\", \"2018-02-08\", \"2018-02-15\"], \"y\": [102.29811147211247, 104.62917291187497, 107.92834086216592, 108.55256272739996, 111.3688413235073, 115.51525065684697, 116.45501215431833], \"mode\": \"lines\", \"name\": \"Thursday\", \"line\": {\"color\": \"blue\"}}, {\"type\": \"scatter\", \"x\": [\"2018-01-03\", \"2018-01-10\", \"2018-01-17\", \"2018-01-24\", \"2018-01-31\", \"2018-02-07\", \"2018-02-14\"], \"y\": [101.59057173311791, 105.03615543972214, 108.29670062614595, 109.78232630585079, 118.04923790682936, 117.19971717206154, 116.56403471474506], \"mode\": \"markers\", \"name\": \"Wednesday\", \"line\": {\"color\": \"purple\"}}, {\"type\": \"scatter\", \"x\": [\"2018-01-03\", \"2018-01-10\", \"2018-01-17\", \"2018-01-24\", \"2018-01-31\", \"2018-02-07\", \"2018-02-14\"], \"y\": [101.59057173311791, 103.31336358642002, 106.66642803293404, 109.03951346599835, 113.91578210634006, 117.62447753944542, 116.88187594340326], \"mode\": \"lines\", \"name\": \"Wednesday\", \"line\": {\"color\": \"purple\"}}, {\"type\": \"scatter\", \"x\": [\"2018-01-02\", \"2018-01-09\", \"2018-01-16\", \"2018-01-23\", \"2018-01-30\", \"2018-02-06\", \"2018-02-13\"], \"y\": [99.72396168405619, 103.20547194113803, 109.12226388795078, 111.15794254370539, 114.34862250674543, 118.3025416963188, 116.31179218093536], \"mode\": \"markers\", \"name\": \"Tuesday\", \"line\": {\"color\": \"brown\"}}, {\"type\": \"scatter\", \"x\": [\"2018-01-02\", \"2018-01-09\", \"2018-01-16\", \"2018-01-23\", \"2018-01-30\", \"2018-02-06\", \"2018-02-13\"], \"y\": [99.72396168405619, 101.46471681259712, 106.16386791454443, 110.14010321582812, 112.75328252522544, 116.32558210153213, 117.30716693862712], \"mode\": \"lines\", \"name\": \"Tuesday\", \"line\": {\"color\": \"brown\"}}, {\"type\": \"scatter\", \"x\": [\"2018-01-01\", \"2018-01-08\", \"2018-01-15\", \"2018-01-22\", \"2018-01-29\", \"2018-02-05\", \"2018-02-12\"], \"y\": [100.0, 101.29462629519436, 108.80526388952586, 112.12141188997008, 114.4183539168384, 113.88013873365271, 115.853672109395], \"mode\": \"markers\", \"name\": \"Monday\", \"line\": {\"color\": \"black\"}}, {\"type\": \"scatter\", \"x\": [\"2018-01-01\", \"2018-01-08\", \"2018-01-15\", \"2018-01-22\", \"2018-01-29\", \"2018-02-05\", \"2018-02-12\"], \"y\": [100.0, 100.64731314759717, 105.0499450923601, 110.46333788974798, 113.26988290340424, 114.14924632524554, 114.86690542152385], \"mode\": \"lines\", \"name\": \"Monday\", \"line\": {\"color\": \"black\"}}], {\"title\": \"Visitors to resaurant by day of week, with rolling averages\", \"yaxis\": {\"title\": \"Visitors\"}}, {\"showLink\": true, \"linkText\": \"Export to plot.ly\"})});</script>"
          },
          "metadata": {},
          "output_type": "display_data"
        }
      ]
    },
    {
      "metadata": {
        "trusted": true
      },
      "cell_type": "code",
      "source": "import sys\nsys.path.insert(0, '/home/bono/Dropbox/notebook/01_MINI_PY/live_util/')\nimport live_df\nimport pandas as pd\n\nsys.path.insert(0, '/home/bono/Dropbox/notebook/01_MINI_PY/')\nimport utils\nimport pandas as pd\n\nprint(\" 01_df_iterrows\")\ndf_kodak = utils.df_kodak\n#1\nfor iNum, (idx, rows) in enumerate(df_kodak.iterrows()):\n    if rows['5Y'] > 3:\n        rows['rating'] = 'DD'\n        print(rows)\n        df_kodak.loc[idx,'rating'] ='DD'\nprint(df_kodak)\n\n\nprint(\"02_update_list\")\ndictList = (df_kodak.to_dict(orient='records'))\nprint(dictList)\nfor di in dictList:\n    di['rating'] = 'DD5'\n    print(type(di))\n    print(di)\n\nprint(\"update_dictList\")\nprint(dictList)\ndf_kodi = pd.DataFrame(dictList)\nprint(df_kodi)\n\nprint(\"03---double loop ----\")\nfor i in range(df_kodak.shape[0]):\n    print(i)\n    for j in range(df_kodak.shape[1]):\n        print(df_kodak.iloc[i,j])\n\n# itertuples과 iteritems은 딱히 뭔가 보이지는 않음\nfor rows in df_kodak.itertuples():\n    print(type(rows))\n    print(rows)\nfor v_rows in df_kodak.iteritems():\n    print(type(v_rows))\n    print(v_rows)\n\nprint(\"04---insert by group by\")\ngrouped = df_kodak.groupby(['rating','firm'])\nprint(grouped)\n\nfor  group in df_kodak.groupby(['rating','firm']).groups:\n    print(group)\n    tag1, tag2 = group\n    tags = dict(tag1=tag1, tag2=tag2)\n    print(tags)\n    sub_df = grouped.get_group(group)\n    print(sub_df)\n",
      "execution_count": null,
      "outputs": []
    },
    {
      "metadata": {
        "trusted": true
      },
      "cell_type": "code",
      "source": "from pandas import DataFrame\ndf1 = DataFrame({'col1':[1,2],'col2':[3,4]})\ndf2 = DataFrame({'col3':[5,6]})     ",
      "execution_count": null,
      "outputs": []
    },
    {
      "metadata": {
        "trusted": true
      },
      "cell_type": "code",
      "source": "from pandas import DataFrame, merge\ndf1 = DataFrame({'key':[1,1], 'col1':[1,2],'col2':[3,4]})\ndf2 = DataFrame({'key':[1,1], 'col3':[5,6]})\n",
      "execution_count": null,
      "outputs": []
    },
    {
      "metadata": {
        "trusted": true
      },
      "cell_type": "code",
      "source": "df1",
      "execution_count": null,
      "outputs": []
    },
    {
      "metadata": {},
      "cell_type": "raw",
      "source": "df2"
    },
    {
      "metadata": {
        "trusted": true
      },
      "cell_type": "code",
      "source": "merge(df1, df2,on='key')[['col1', 'col2', 'col3']]",
      "execution_count": null,
      "outputs": []
    },
    {
      "metadata": {
        "trusted": true
      },
      "cell_type": "code",
      "source": "import lightgbm as lgb",
      "execution_count": null,
      "outputs": []
    },
    {
      "metadata": {
        "trusted": true
      },
      "cell_type": "code",
      "source": "lgb",
      "execution_count": null,
      "outputs": []
    },
    {
      "metadata": {
        "trusted": true
      },
      "cell_type": "code",
      "source": "params = {'boosting_type': 'gbdt',\n          'metric' : 'rmse', \"objective\" : \"regression\"}\nmodel = lgb.LGBMRegressor(params)\n\n(model.get_params())",
      "execution_count": null,
      "outputs": []
    },
    {
      "metadata": {
        "trusted": true
      },
      "cell_type": "code",
      "source": "",
      "execution_count": null,
      "outputs": []
    },
    {
      "metadata": {
        "trusted": true
      },
      "cell_type": "code",
      "source": "import numpy as np\nimport pandas as pd\nfrom datetime import timedelta, date, datetime \n\ndata\ndata1 = np.random.randint(1,200, 100) \n\ndata2 =  np.round(np.random.rand(100, 2) * 10)\n\ntype(data2)\n\n#np.vstack([data, data2.T])\n\nrng_1 = pd.date_range('2018-01-01', periods = 100, freq =\"1d\", name = 'date')\ndata = np.concatenate((data2,data1[:,None]),axis=1)\n\ndf_a = pd.DataFrame(data = data, index = rng_1, columns = ['item_nbr','store_nbr','unit_sales'])\n\nbig_df =(df_a.set_index(['item_nbr','store_nbr'],append = True).unstack()).interpolate().fillna(method  = 'bfill').unstack().interpolate().fillna(0).copy()\n\nbig_df_dcast = big_df.stack().stack().copy()\n\ndf_a.head()\n\n#big_df['dow'] = big_df.reset_index()['index'].dt.dayofweek\\\n\ndf_a.reset_index(inplace = True)\ndf_a['dow']  = df_a['date'].dt.dayofweek\n\nma_dw = df_a[['item_nbr','store_nbr','dow','unit_sales']].groupby(\n        ['item_nbr','store_nbr','dow'])['unit_sales'].mean().to_frame('madw').reset_index()\n\nma_dw.head()\n\nma_wk  = ma_dw[['item_nbr','store_nbr','dow','madw']].groupby(\n        ['item_nbr','store_nbr'])['madw'].mean().to_frame('mawk').reset_index()\n\nu_dates = df_a.date.unique()\nu_stores = df_a.store_nbr.unique()\nu_items = df_a.item_nbr.unique()\n\ndf_a.set_index(['date', 'store_nbr', 'item_nbr'], inplace=True)\n\nbig_df_dcast= big_df_dcast.reindex(\n    pd.MultiIndex.from_product(\n        (u_dates, u_stores, u_items),\n        names=['date','store_nbr','item_nbr']\n    )\n).reset_index()\n\nbig_df_dcast.fillna(0, inplace = True)\n\nma_is = big_df_dcast[['item_nbr','store_nbr','unit_sales']].groupby(\n        ['item_nbr','store_nbr'])['unit_sales'].mean().to_frame('mais')\n\nlast_date = big_df_dcast.iloc[big_df_dcast.shape[0]-1].date\n\n# ma_is\n# for i in [56,28,14,7,3,1]:\n#     tmp = big_df_dcast[big_df_dcast.date>last_date-timedelta(int(i))]\n#     tmpg = tmp.groupby(['item_nbr','store_nbr'])['unit_sales'].mean().to_frame('mais'+str(i))\n#     ma_is = ma_is.join(tmpg, how='left')",
      "execution_count": null,
      "outputs": []
    },
    {
      "metadata": {
        "trusted": true
      },
      "cell_type": "code",
      "source": "",
      "execution_count": null,
      "outputs": []
    },
    {
      "metadata": {
        "trusted": true
      },
      "cell_type": "code",
      "source": "",
      "execution_count": null,
      "outputs": []
    },
    {
      "metadata": {
        "trusted": true
      },
      "cell_type": "code",
      "source": "words = ('u', 's')\nlist_jsrfc = ['join', 'split', 'replace','find','count']\n[x for x in list_jsrfc if any(w in x for w in words)]\n\nimport numpy as np\nimport pandas as pd\n#----\ndata =  np.round(np.random.rand(100, 2) * 10)\nrand3 = np.random.randint(1,100, size=(25));data[rand3, 0]  = np.NaN\nrand3 = np.random.randint(1,100, size=(25));data[rand3, 1]  = np.NaN\n\ndf_any = pd.DataFrame(data)\n\ndf_any.isnull().any(axis = 1)\npercent = (100 * df_any.isnull().sum() / df_any.shape[0]).sort_values(ascending=False)\nprint(percent)\ndf_any.apply(lambda x:sum(x.isnull()))\n\ndf_any.head()[df_any.isnull().any(1).head()]",
      "execution_count": null,
      "outputs": []
    },
    {
      "metadata": {
        "trusted": true
      },
      "cell_type": "code",
      "source": "df_any.head()",
      "execution_count": null,
      "outputs": []
    },
    {
      "metadata": {
        "trusted": true
      },
      "cell_type": "code",
      "source": "df_any.head()[df_any.isnull().any(1).head()]",
      "execution_count": null,
      "outputs": []
    },
    {
      "metadata": {
        "trusted": true
      },
      "cell_type": "code",
      "source": "test_a[test_a.isnull().any(1)]\n\n\n\n\nprint(train[train.isnull().any(axis=1)][null_columns].head())",
      "execution_count": null,
      "outputs": []
    },
    {
      "metadata": {
        "trusted": true
      },
      "cell_type": "code",
      "source": "",
      "execution_count": null,
      "outputs": []
    },
    {
      "metadata": {
        "trusted": true
      },
      "cell_type": "code",
      "source": "",
      "execution_count": null,
      "outputs": []
    },
    {
      "metadata": {
        "trusted": true
      },
      "cell_type": "code",
      "source": "import numpy as np\nimport pandas as pd\n\ndata =  np.round(np.random.rand(100, 2) * 10)\nrand3 = np.random.randint(1,100, size=(25));data[rand3, 0]  = np.NaN\nrand3 = np.random.randint(1,100, size=(25));data[rand3, 1]  = np.NaN",
      "execution_count": null,
      "outputs": []
    },
    {
      "metadata": {
        "trusted": true
      },
      "cell_type": "code",
      "source": "df1 = pd.DataFrame(data)",
      "execution_count": null,
      "outputs": []
    },
    {
      "metadata": {
        "trusted": true
      },
      "cell_type": "code",
      "source": "df1.dropna(how = 'all')",
      "execution_count": null,
      "outputs": []
    },
    {
      "metadata": {
        "trusted": true
      },
      "cell_type": "code",
      "source": "df1[df1.isnull().any(1)]",
      "execution_count": null,
      "outputs": []
    },
    {
      "metadata": {
        "trusted": true
      },
      "cell_type": "code",
      "source": "import pandas as pd\ndf=pd.DataFrame({\"A\":[1,1,2],\"B\":[\"a\",\"b\",\"c\"],\"metric\":[4,5,2]})\n#df.groupby([\"A\",\"B\"]).sum().groupby(level='A').transform('sum')",
      "execution_count": null,
      "outputs": []
    },
    {
      "metadata": {
        "trusted": true
      },
      "cell_type": "code",
      "source": "df_l4 = pd.DataFrame( {'A' : [1, 1, 1, 1, 2, 2, 2, 3, 3, 4 ]})\ndf_l4['B'] = (df_l4.A.astype('str') + df_l4.reset_index().groupby('A')['index'].rank(ascending=True, method='max').astype('str')).astype('float')\nimsi = df_l4.reset_index().groupby('A')['index'].rank(ascending=True, method='max').map('{:.0f}'.format)\ndf_l4['C'] = imsi + imsi",
      "execution_count": null,
      "outputs": []
    },
    {
      "metadata": {
        "trusted": true
      },
      "cell_type": "code",
      "source": "df_l4",
      "execution_count": null,
      "outputs": []
    },
    {
      "metadata": {
        "trusted": true
      },
      "cell_type": "code",
      "source": "\ndef df_with_rate(df, cols):\n    #df_l4.groupby([\"A\",\"C\"]).sum().groupby(level='A').transform('sum')\n    #grp['Total']=grp.sum(level='A').reindex(grp.index,level=0)\n    #grp.join(grp.groupby('A').apply(lambda r: r/r.sum()))\n\n    grp = df.groupby([\"A\",\"C\"]).sum()\n    grp = df.groupby(cols).sum()\n    #grp.join(grp.groupby('A').apply(lambda r: r/r.sum()), rsuffix='_x2')\n    #https://stackoverflow.com/questions/48345059/pandas-groupby-rollup\n    return grp.join(grp.groupby(cols[0]).apply(lambda r: r/r.sum()), rsuffix='_x2')\n\n\ndf_with_rate(df_l4, ['A','C'])",
      "execution_count": null,
      "outputs": []
    },
    {
      "metadata": {
        "trusted": true
      },
      "cell_type": "code",
      "source": "",
      "execution_count": null,
      "outputs": []
    },
    {
      "metadata": {
        "trusted": true
      },
      "cell_type": "code",
      "source": "grp",
      "execution_count": null,
      "outputs": []
    },
    {
      "metadata": {
        "trusted": true
      },
      "cell_type": "code",
      "source": "#df_a\nimport numpy as np\nimport pandas as pd\ndata  = np.arange(12).reshape((3, 4))\nindex = [2003, 2004, 2005 ]\ncolumns = ['Arizona','Boston', 'Chicago','Detroit']\ndf_a = pd.DataFrame(data = data, index = index , columns = columns)\n",
      "execution_count": null,
      "outputs": []
    },
    {
      "metadata": {
        "trusted": true
      },
      "cell_type": "code",
      "source": "df_a.groupby(['Arizona']).sum()",
      "execution_count": null,
      "outputs": []
    },
    {
      "metadata": {
        "trusted": true
      },
      "cell_type": "code",
      "source": "",
      "execution_count": null,
      "outputs": []
    },
    {
      "metadata": {
        "trusted": true
      },
      "cell_type": "code",
      "source": "s  = df_a['Arizona']\n#.index.map('_'.join)",
      "execution_count": null,
      "outputs": []
    },
    {
      "metadata": {
        "trusted": true
      },
      "cell_type": "code",
      "source": "df_a.index.map('_'.join)\n",
      "execution_count": null,
      "outputs": []
    },
    {
      "metadata": {
        "trusted": true
      },
      "cell_type": "code",
      "source": "s.index = s.index.map('_'.join)\n",
      "execution_count": null,
      "outputs": []
    },
    {
      "metadata": {
        "trusted": true
      },
      "cell_type": "code",
      "source": "# 1. np.where \n\nimport numpy as np\nimport pandas as pd\n\ndata =  np.round(np.random.rand(100, 2) * 10)\nrand3 = np.random.randint(1,100, size=(25));data[rand3, 0]  = np.NaN\nrand3 = np.random.randint(1,100, size=(25));data[rand3, 1]  = np.NaN\n\ndata[rand3, 0]\n\nnp.where(data > 5, 1,-1 )[:6]\nnp.where(np.isnan(data))\n#df_a[np.where(df_a['Arizona'] == 0,True, False)]",
      "execution_count": null,
      "outputs": []
    },
    {
      "metadata": {
        "trusted": true
      },
      "cell_type": "code",
      "source": "# 2. where _pd \n\ncolumns = ['a','b']\ndf_d = pd.DataFrame(data = data, columns = ['a','b'])\n\ndf_d.head()\n\ndf_d.where(df_d>2,  np.nan).head()\n\n# 3. pd_ query\n\ndf_d.query('(a ==a)').head()\n\n##https://stackoverflow.com/questions/26535563/querying-for-nan-and-other-names-in-pandas",
      "execution_count": null,
      "outputs": []
    },
    {
      "metadata": {
        "trusted": true
      },
      "cell_type": "code",
      "source": "#data[:10,1]\n(np.isnan(data[1]))\n#np.where(data > 5, 2,0 )",
      "execution_count": null,
      "outputs": []
    },
    {
      "metadata": {
        "trusted": true
      },
      "cell_type": "code",
      "source": "import pandas as pd\nimport numpy as np",
      "execution_count": null,
      "outputs": []
    },
    {
      "metadata": {
        "trusted": true
      },
      "cell_type": "code",
      "source": "#df_a\ndata  = np.arange(12).reshape((3, 4))\nindex = [2003, 2004, 2005 ]\ncolumns = ['Arizona','Boston', 'Chicago','Detroit']\ndf_a = pd.DataFrame(data = data, index = index , columns = columns)\nprint(df_a)|e",
      "execution_count": null,
      "outputs": []
    },
    {
      "metadata": {
        "trusted": true
      },
      "cell_type": "code",
      "source": "#df_a.loc[2003].apply(lambda r:r.sum())\n\ndf_a.apply(lambda r:r/r.sum(), axis =1)",
      "execution_count": null,
      "outputs": []
    },
    {
      "metadata": {
        "trusted": true
      },
      "cell_type": "code",
      "source": "def add_onetwo(X):\n    #print(X)\n    \n    return [X['Arizona'],X['Boston']]\n    #return [X[2004],X[2005], X[2003]]\n\ndf_a['aa'], df_a['bb'] = zip(*df_a[['Arizona','Boston']].apply(lambda x: add_onetwo(x) , axis = 1))\n\nxx = zip(*df_a[['Arizona','Boston']].apply(lambda x: add_onetwo(x) , axis = 1))",
      "execution_count": null,
      "outputs": []
    },
    {
      "metadata": {
        "trusted": true
      },
      "cell_type": "code",
      "source": "list(xx)",
      "execution_count": null,
      "outputs": []
    },
    {
      "metadata": {
        "trusted": true
      },
      "cell_type": "code",
      "source": "type(a)",
      "execution_count": null,
      "outputs": []
    },
    {
      "metadata": {
        "trusted": true
      },
      "cell_type": "code",
      "source": "b",
      "execution_count": null,
      "outputs": []
    },
    {
      "metadata": {
        "trusted": true
      },
      "cell_type": "code",
      "source": "df_a['Arizona'].apply(lambda x:add_two())",
      "execution_count": null,
      "outputs": []
    },
    {
      "metadata": {
        "trusted": true
      },
      "cell_type": "code",
      "source": "df_a['Arizona'].apply(lambda x:add_two)",
      "execution_count": null,
      "outputs": []
    },
    {
      "metadata": {
        "trusted": true
      },
      "cell_type": "code",
      "source": "df = pd.DataFrame({'X': np.arange(10), 'Y': np.arange(10) + np.random.randn(10)})\n\nmod = sm.OLS.from_formula(\"Y ~ X\", df)",
      "execution_count": null,
      "outputs": []
    },
    {
      "metadata": {
        "trusted": true
      },
      "cell_type": "code",
      "source": "res = mod.fit()\n\nexog = pd.DataFrame({\"X\": np.linspace(0, 10, 100)})",
      "execution_count": null,
      "outputs": []
    },
    {
      "metadata": {
        "trusted": true
      },
      "cell_type": "code",
      "source": "res.predict(exog)",
      "execution_count": null,
      "outputs": []
    },
    {
      "metadata": {
        "trusted": true
      },
      "cell_type": "code",
      "source": "res.predict(exog)",
      "execution_count": null,
      "outputs": []
    },
    {
      "metadata": {
        "trusted": true
      },
      "cell_type": "code",
      "source": "import numpy as np\nimport pandas as pd\nimport matplotlib.pyplot as plt\nimport seaborn as sns\nimport statsmodels.api as sm\nimport statsmodels.formula.api as smf\n%matplotlib inline",
      "execution_count": null,
      "outputs": []
    },
    {
      "metadata": {
        "trusted": true
      },
      "cell_type": "code",
      "source": "from sklearn.datasets import load_boston\nboston_data = load_boston()\ndf =pd.DataFrame(boston_data.data,columns=boston_data.feature_names)",
      "execution_count": null,
      "outputs": []
    },
    {
      "metadata": {
        "trusted": true
      },
      "cell_type": "code",
      "source": "df.shape",
      "execution_count": null,
      "outputs": []
    },
    {
      "metadata": {
        "trusted": true
      },
      "cell_type": "code",
      "source": "X = df\ny = boston_data.target\nX_constant = sm.add_constant(X)",
      "execution_count": null,
      "outputs": []
    },
    {
      "metadata": {
        "trusted": true
      },
      "cell_type": "code",
      "source": "",
      "execution_count": null,
      "outputs": []
    },
    {
      "metadata": {
        "trusted": true
      },
      "cell_type": "code",
      "source": "# 1. numpy.where",
      "execution_count": null,
      "outputs": []
    },
    {
      "metadata": {
        "trusted": true
      },
      "cell_type": "code",
      "source": "",
      "execution_count": null,
      "outputs": []
    },
    {
      "metadata": {
        "trusted": true
      },
      "cell_type": "code",
      "source": "",
      "execution_count": null,
      "outputs": []
    },
    {
      "metadata": {
        "trusted": true
      },
      "cell_type": "code",
      "source": "data  = np.arange(12).reshape((3, 4))\nindex = [2003, 2004, 2005 ]\ncolumns = ['Arizona','Boston', 'Chicago','Detroit']\ndf_a = pd.DataFrame(data = data, index = index , columns = columns)\nprint(df_a)",
      "execution_count": null,
      "outputs": []
    },
    {
      "metadata": {
        "trusted": true
      },
      "cell_type": "code",
      "source": "df_a['Arizona'] == 0",
      "execution_count": null,
      "outputs": []
    },
    {
      "metadata": {
        "trusted": true
      },
      "cell_type": "code",
      "source": "",
      "execution_count": null,
      "outputs": []
    },
    {
      "metadata": {
        "trusted": true
      },
      "cell_type": "code",
      "source": "df_a[[ True, False, False]]",
      "execution_count": null,
      "outputs": []
    },
    {
      "metadata": {
        "trusted": true
      },
      "cell_type": "code",
      "source": "np.where(df_a['Arizona'] == 0,True, False)",
      "execution_count": null,
      "outputs": []
    },
    {
      "metadata": {
        "trusted": true
      },
      "cell_type": "code",
      "source": "df[np.where(df.C | df.D, True, False)]\n",
      "execution_count": null,
      "outputs": []
    },
    {
      "metadata": {
        "trusted": true
      },
      "cell_type": "code",
      "source": "import numpy as np",
      "execution_count": null,
      "outputs": []
    },
    {
      "metadata": {
        "trusted": true
      },
      "cell_type": "code",
      "source": "a",
      "execution_count": null,
      "outputs": []
    },
    {
      "metadata": {
        "trusted": true
      },
      "cell_type": "code",
      "source": "ax = ()",
      "execution_count": null,
      "outputs": []
    },
    {
      "metadata": {
        "trusted": true
      },
      "cell_type": "code",
      "source": "abb = {}",
      "execution_count": null,
      "outputs": []
    },
    {
      "metadata": {
        "trusted": true
      },
      "cell_type": "code",
      "source": "for i in np.arange(4, 100, 4):\n    for j in np.arange(4, 100, 4):\n        a  =(i, j)\n        abb[a] = 10\n    ",
      "execution_count": null,
      "outputs": []
    },
    {
      "metadata": {
        "trusted": true
      },
      "cell_type": "code",
      "source": "type(abb)",
      "execution_count": null,
      "outputs": []
    },
    {
      "metadata": {
        "trusted": true
      },
      "cell_type": "code",
      "source": "pd.DataFrame([abb]).T",
      "execution_count": null,
      "outputs": []
    }
  ],
  "metadata": {
    "kernelspec": {
      "name": "python3",
      "display_name": "Python 3",
      "language": "python"
    },
    "language_info": {
      "name": "python",
      "version": "3.6.4",
      "mimetype": "text/x-python",
      "codemirror_mode": {
        "name": "ipython",
        "version": 3
      },
      "pygments_lexer": "ipython3",
      "nbconvert_exporter": "python",
      "file_extension": ".py"
    },
    "gist": {
      "id": "",
      "data": {
        "description": "notebook/01_MINI_PY/A_01_has_no_name_alt_1.ipynb",
        "public": true
      }
    }
  },
  "nbformat": 4,
  "nbformat_minor": 2
}